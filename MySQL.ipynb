{
 "cells": [
  {
   "cell_type": "markdown",
   "metadata": {},
   "source": [
    "## How to use Python to connect to MySQL database and manipulate the database"
   ]
  },
  {
   "cell_type": "markdown",
   "metadata": {},
   "source": [
    "1. Download mysql and mysql workbench (when configuring SQL server, in \n",
    "    Authentication Method, choose Use Legacy Authentication Method. Because\n",
    "    with new authentication method, mysql.connector is not able to connect.)\n",
    "2. pip install mysql-connector"
   ]
  },
  {
   "cell_type": "markdown",
   "metadata": {},
   "source": [
    "### Create a connection to MYSQL database"
   ]
  },
  {
   "cell_type": "code",
   "execution_count": null,
   "metadata": {},
   "outputs": [],
   "source": [
    "import mysql.connector"
   ]
  },
  {
   "cell_type": "code",
   "execution_count": null,
   "metadata": {},
   "outputs": [],
   "source": [
    "# Create a connection\n",
    "mydb = mysql.connector.connect(\n",
    "    host='127.0.0.1',\n",
    "    user='root',\n",
    "    password='Mysql!123',\n",
    "    database='testdb'\n",
    ")\n",
    "print(mydb)"
   ]
  },
  {
   "cell_type": "markdown",
   "metadata": {},
   "source": [
    "- In order to get to use the databse we connected, we need to create a cursor object. It gives us the ability to have multiple\n",
    "separate working enviroments through the same connection to the database.\n",
    "- Also, I am thinking it is able to create several cursor to work concurrently."
   ]
  },
  {
   "cell_type": "code",
   "execution_count": null,
   "metadata": {},
   "outputs": [],
   "source": [
    "mycursor = mydb.cursor()"
   ]
  },
  {
   "cell_type": "markdown",
   "metadata": {},
   "source": [
    "### Start to Execute the SQL command"
   ]
  },
  {
   "cell_type": "code",
   "execution_count": null,
   "metadata": {},
   "outputs": [],
   "source": [
    "# Create a database\n",
    "try:\n",
    "    mycursor.execute('CREATE DATABASE testdb')\n",
    "except:\n",
    "    print('The database exists!')"
   ]
  },
  {
   "cell_type": "code",
   "execution_count": null,
   "metadata": {},
   "outputs": [],
   "source": [
    "# See all databases\n",
    "mycursor.execute('SHOW DATABASES')"
   ]
  },
  {
   "cell_type": "code",
   "execution_count": null,
   "metadata": {
    "scrolled": true
   },
   "outputs": [],
   "source": [
    "# Show result using command .fetchall()\n",
    "mycursor.fetchall()"
   ]
  },
  {
   "cell_type": "code",
   "execution_count": null,
   "metadata": {},
   "outputs": [],
   "source": [
    "# Create a table\n",
    "# Before create a table, need to define in which database the tabel is created\n",
    "mycursor.execute('\\\n",
    "CREATE TABLE test (\\\n",
    "id INT PRIMARY KEY,\\\n",
    "name VARCHAR(255),\\\n",
    "age INT,\\\n",
    "address VARCHAR(255))')"
   ]
  },
  {
   "cell_type": "code",
   "execution_count": null,
   "metadata": {},
   "outputs": [],
   "source": [
    "# %s works as placehoders\n",
    "# Define the formula first\n",
    "sqlFormula = \"INSERT INTO test (id, name, age, address) VALUES (%s, %s, %s, %s)\""
   ]
  },
  {
   "cell_type": "code",
   "execution_count": null,
   "metadata": {},
   "outputs": [],
   "source": [
    "# data sample\n",
    "person1 = (1001, 'John', 25, 'US')"
   ]
  },
  {
   "cell_type": "code",
   "execution_count": null,
   "metadata": {},
   "outputs": [],
   "source": [
    "# execute code: insert data into database\n",
    "mycursor.execute(sqlFormula, person1)"
   ]
  },
  {
   "cell_type": "code",
   "execution_count": null,
   "metadata": {},
   "outputs": [],
   "source": [
    "# Unless we run the code below, no changes would be made\n",
    "mydb.commit()"
   ]
  },
  {
   "cell_type": "code",
   "execution_count": null,
   "metadata": {},
   "outputs": [],
   "source": [
    "# Insert many data, use executemany command\n",
    "\n",
    "mycursor.executemany(sqlFormula, persons)\n",
    "\n",
    "mydb.commit()"
   ]
  },
  {
   "cell_type": "code",
   "execution_count": null,
   "metadata": {},
   "outputs": [],
   "source": [
    "# Selecting and getting data from database\n",
    "mycursor.execute('SELECT * FROM registrar')\n",
    "# fetchall can grab data from previous execute\n",
    "# mycursor.fetchone()  return first row of result\n",
    "myresult = mycursor.fetchall()\n",
    "# loop through result\n",
    "for row in myresult:\n",
    "    print(row)\n"
   ]
  }
 ],
 "metadata": {
  "kernelspec": {
   "display_name": "Python 3",
   "language": "python",
   "name": "python3"
  },
  "language_info": {
   "codemirror_mode": {
    "name": "ipython",
    "version": 3
   },
   "file_extension": ".py",
   "mimetype": "text/x-python",
   "name": "python",
   "nbconvert_exporter": "python",
   "pygments_lexer": "ipython3",
   "version": "3.6.5"
  }
 },
 "nbformat": 4,
 "nbformat_minor": 2
}
